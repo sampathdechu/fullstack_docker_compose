{
 "cells": [
  {
   "cell_type": "code",
   "execution_count": 1,
   "metadata": {},
   "outputs": [],
   "source": [
    "incident_data_file = \"/home/sampath/data/incidents/incident-cie.csv\""
   ]
  },
  {
   "cell_type": "code",
   "execution_count": 145,
   "metadata": {},
   "outputs": [
    {
     "name": "stderr",
     "output_type": "stream",
     "text": [
      "/opt/conda/lib/python3.8/site-packages/IPython/core/interactiveshell.py:3145: DtypeWarning: Columns (26,31,36,37,49,81,84,87,88,98,100,123,124,132,139,141) have mixed types.Specify dtype option on import or set low_memory=False.\n",
      "  has_raised = await self.run_ast_nodes(code_ast.body, cell_name,\n"
     ]
    }
   ],
   "source": [
    "import pandas as pd\n",
    "import numpy as np\n",
    "from pandas.api.types import is_string_dtype\n",
    "\n",
    "pd.set_option('display.max_columns', 10)\n",
    "inc_df = pd.read_csv(incident_data_file,encoding='cp1252')   "
   ]
  },
  {
   "cell_type": "code",
   "execution_count": 191,
   "metadata": {},
   "outputs": [
    {
     "data": {
      "text/plain": [
       "(4151, 143)"
      ]
     },
     "execution_count": 191,
     "metadata": {},
     "output_type": "execute_result"
    }
   ],
   "source": [
    "inc_df.shape"
   ]
  },
  {
   "cell_type": "code",
   "execution_count": 146,
   "metadata": {},
   "outputs": [],
   "source": [
    "column_names = inc_df.columns.values\n"
   ]
  },
  {
   "cell_type": "code",
   "execution_count": 147,
   "metadata": {},
   "outputs": [
    {
     "data": {
      "text/plain": [
       "array(['number', 'opened_at', 'short_description', 'problem_id', 'active',\n",
       "       'activity_due', 'work_end', 'work_start',\n",
       "       'additional_assignee_list', 'comments', 'u_affected_activity',\n",
       "       'approval', 'approval_history', 'approval_set', 'assigned_to',\n",
       "       'u_cie_assigned_to', 'u_problem_assigned_to', 'assignment_group',\n",
       "       'u_cie_assignment_group', 'u_problem_assignment_group',\n",
       "       'cmdb_ci_business_app', 'business_duration', 'business_stc',\n",
       "       'business_service', 'u_cie_sent', 'u_crn', 'u_c_code', 'caller_id',\n",
       "       'category', 'u_caused_by_change', 'caused_by', 'rfc',\n",
       "       'child_incidents', 'u_chronology_incident', 'close_code',\n",
       "       'close_notes', 'closed_at', 'closed_by', 'comments_and_work_notes',\n",
       "       'company', 'cmdb_ci', 'u_problem_cmdb_ci', 'u_confirmed_cie',\n",
       "       'contact_type', 'contract', 'correlation_id',\n",
       "       'correlation_display', 'sys_created_on', 'sys_created_by',\n",
       "       'u_case', 'u_current_status', 'u_customer_names', 'u_data_center',\n",
       "       'delivery_plan', 'delivery_task', 'description',\n",
       "       'u_description_customer_impact', 'u_detection_source',\n",
       "       'u_disruption_time', 'sys_domain', 'sys_domain_path', 'due_date',\n",
       "       'calendar_duration', 'u_environment', 'u_environment_ref',\n",
       "       'escalation', 'expected_start', 'follow_up', 'group_list',\n",
       "       'impact', 'u_status', 'incident_state', 'knowledge',\n",
       "       'reopened_time', 'reopened_by', 'location', 'made_sla',\n",
       "       'u_monitoring_alertkey', 'u_monitoring_application',\n",
       "       'u_monitoring_escalation_policy', 'u_monitoring_incident_assign',\n",
       "       'u_monitoring_incident_number', 'u_monitoring_node',\n",
       "       'u_monitoring_oncall', 'u_monitoring_situation', 'notify',\n",
       "       'hold_reason', 'u_open_alert', 'u_open_runbook',\n",
       "       'u_problem_opened_at', 'opened_by', 'u_problem_opened_by', 'order',\n",
       "       'u_disruption_ended', 'u_disruption_began',\n",
       "       'x_pd_integration_page_and_set_group_to_primary',\n",
       "       'x_pd_integration_pagerduty_disable_trigger',\n",
       "       'x_pd_integration_last_notes_refresh', 'x_pd_integration_incident',\n",
       "       'x_pd_integration_incident_key', 'x_pd_integration_notes_ids',\n",
       "       'parent', 'parent_incident', 'u_potential_cie',\n",
       "       'x_pd_integration_primary_assignment_group', 'u_problem_state',\n",
       "       'u_problem_short_description', 'u_rca_approval_group_incident',\n",
       "       'u_problem_u_incident', 'reassignment_count', 'u_recurring_event',\n",
       "       'u_region_list', 'reopen_count', 'calendar_stc', 'resolved_at',\n",
       "       'resolved_by', 'sla_due', 'priority', 'severity',\n",
       "       'u_problem_priority', 'skills', 'state', 'subcategory',\n",
       "       'u_summary', 'sys_tags', 'sys_class_name',\n",
       "       'u_technical_bridge_start', 'time_worked', 'u_tribe',\n",
       "       'u_problem_u_tribe', 'sys_updated_on', 'sys_updated_by',\n",
       "       'sys_mod_count', 'upon_approval', 'upon_reject',\n",
       "       'u_upstream_problem', 'urgency', 'user_input',\n",
       "       'u_customer_impacted_question', 'watch_list', 'work_notes',\n",
       "       'work_notes_list', 'x_pd_integration_is_pagerduty_escalated'],\n",
       "      dtype=object)"
      ]
     },
     "execution_count": 147,
     "metadata": {},
     "output_type": "execute_result"
    }
   ],
   "source": [
    "column_names"
   ]
  },
  {
   "cell_type": "code",
   "execution_count": 193,
   "metadata": {},
   "outputs": [
    {
     "name": "stdout",
     "output_type": "stream",
     "text": [
      "<class 'pandas.core.frame.DataFrame'>\n",
      "RangeIndex: 4151 entries, 0 to 4150\n",
      "Columns: 143 entries, number to x_pd_integration_is_pagerduty_escalated\n",
      "dtypes: bool(12), float64(37), int64(7), object(87)\n",
      "memory usage: 4.2+ MB\n"
     ]
    }
   ],
   "source": [
    "inc_df.info()"
   ]
  },
  {
   "cell_type": "code",
   "execution_count": null,
   "metadata": {},
   "outputs": [],
   "source": [
    "#inc_df.describe()"
   ]
  },
  {
   "cell_type": "code",
   "execution_count": 148,
   "metadata": {},
   "outputs": [
    {
     "data": {
      "text/plain": [
       "'2017-11-09 14:45:10 - Servicenow Application (Work notes)\\nPagerDuty: PDHVCBT/TOC AVM was resolved by Cory Yochens\\n\\n2017-11-09 14:45:01 - Servicenow Application (Work notes)\\nPagerDuty: PDHVCBT/TOC AVM was acknowledged/assigned to Cory Yochens.\\n\\n2017-11-09 14:43:52 - Servicenow Application (Work notes)\\nPagerDuty: PDHVCBT/TOC AVM was acknowledged/assigned to Mitchel L Dietzel.\\n\\n2017-11-09 14:43:11 - Servicenow Application (Work notes)\\nPagerDuty: PDHVCBT/TOC AVM was assigned to Mitchel L Dietzel.\\n\\n2017-11-09 14:38:10 - Servicenow Application (Work notes)\\nPagerDuty: PDHVCBT/TOC AVM was assigned to Mitchel L Dietzel.\\n\\n2017-11-09 14:34:45 - Servicenow Application (Work notes)\\nPagerDuty: P60LKKS/IoTP DevOps was resolved by Pete Cullen\\n\\n2017-11-09 14:34:45 - Servicenow Application (Work notes)\\nPrimary PagerDuty Incident(P60LKKS) has been resolved.   Resolving incident INC0019373\\n\\n2017-11-09 14:34:43 - System (Work notes)\\nResolving PagerDuty incident\\n\\n2017-11-09 14:34:16 - Servicenow Application (Work notes)\\nPagerDuty: P60LKKS/IoTP DevOps was acknowledged/assigned to Caroline Emmins.\\n\\n2017-11-09 14:33:16 - Servicenow Application (Work notes)\\nPagerDuty: P60LKKS/IoTP DevOps was assigned to Caroline Emmins.\\n\\n2017-11-09 14:33:12 - System (Work notes)\\nPagerDuty created incident(P60LKKS)\\n\\n2017-11-09 14:33:10 - Servicenow Application (Work notes)\\nPagerDuty: PDHVCBT/TOC AVM was assigned to Mitchel L Dietzel.\\n\\n2017-11-09 14:33:08 - System (Work notes)\\nPagerDuty created incident(PDHVCBT)\\n\\n'"
      ]
     },
     "execution_count": 148,
     "metadata": {},
     "output_type": "execute_result"
    }
   ],
   "source": [
    "inc_df[\"comments_and_work_notes\"][0]"
   ]
  },
  {
   "cell_type": "code",
   "execution_count": 111,
   "metadata": {},
   "outputs": [],
   "source": [
    "def print_lines(comment):\n",
    "    lines = comment.split(\"\\n\")\n",
    "    for i in lines: \n",
    "        print(i)"
   ]
  },
  {
   "cell_type": "code",
   "execution_count": 115,
   "metadata": {},
   "outputs": [
    {
     "name": "stdout",
     "output_type": "stream",
     "text": [
      "2018-06-25 01:55:51 - Servicenow Application (Work notes)\n",
      "PagerDuty: PVTYTVK/TOC AVM was resolved by DILASHANI DEVI RAMAKRISHNAN\n",
      "\n",
      "2018-06-25 01:55:50 - Servicenow Application (Work notes)\n",
      "PagerDuty: PDQCAMC/TOC AVM was resolved by DILASHANI DEVI RAMAKRISHNAN\n",
      "\n",
      "2018-06-25 01:46:13 - Servicenow Application (Work notes)\n",
      "PagerDuty: PDQCAMC/TOC AVM was acknowledged/assigned to Xiulei Zhu.\n",
      "\n",
      "2018-06-25 01:46:11 - Servicenow Application (Work notes)\n",
      "PagerDuty: PVTYTVK/TOC AVM was acknowledged/assigned to Xiulei Zhu.\n",
      "\n",
      "2018-06-25 01:45:53 - Servicenow Application (Work notes)\n",
      "PagerDuty: PDQCAMC/TOC AVM was acknowledged/assigned to Xiulei Zhu.\n",
      "\n",
      "2018-06-25 01:45:43 - Servicenow Application (Work notes)\n",
      "PagerDuty: PVTYTVK/TOC AVM was acknowledged/assigned to Xiulei Zhu.\n",
      "\n",
      "2018-06-25 01:45:10 - Servicenow Application (Work notes)\n",
      "PagerDuty: PVTYTVK/TOC AVM was assigned to Doug Cox, Michael Ballard, Eric Evans, Xiu Lei Zhu, Dilashani Devi Ramakrishnan, Murray Hurvitz, Mike Twerago.\n",
      "\n",
      "2018-06-25 01:45:09 - Servicenow Application (Work notes)\n",
      "PagerDuty: PDQCAMC/TOC AVM was assigned to Doug Cox, Michael Ballard, Eric Evans, Xiu Lei Zhu, Dilashani Devi Ramakrishnan, Murray Hurvitz, Mike Twerago.\n",
      "\n",
      "2018-06-25 01:45:07 - System (Work notes)\n",
      "PagerDuty created incident(PVTYTVK)\n",
      "\n",
      "2018-06-25 01:45:05 - System (Work notes)\n",
      "PagerDuty created incident(PDQCAMC)\n",
      "\n",
      "2018-06-25 01:45:00 - Rey Lozano (Work notes)\n",
      "Note:  This ticket was assigned to the group iaas-network-NRE which does not have defined PagerDuty routing for severity  2.  Notification will be limited to email.\n",
      "\n",
      "2018-06-25 01:44:59 - Rey Lozano (Work notes)\n",
      "NRE Daud found errors counting on bbr02.eq01.wdc02 et-1/1/2. The link will be taken out of service for troubleshooting. The link has been taken out of service by removing traffic via CHANGEMGMT-16562. NRE-1624 jira has been created to track this issue. Equinix ticket 1-156812194810.\n",
      "\n",
      "2018-06-25 01:44:59 - Rey Lozano (Additional comments)\n",
      "As of 07-25-2018 01:22 UTC To mitigate the possibility of packet loss over this link, engineers have removed the link from service while the source of the degradation is investigated and corrected.\n",
      "\n",
      "As of 07-25-2018 00:33 UTC A link between bbr02.eq01.wdc02 and Amazon has degraded and some customer traffic traversing this path may be subjected to packet loss. Engineers are investigating the source of the degradation.\n",
      "\n",
      "\n"
     ]
    }
   ],
   "source": [
    "print(inc_df[\"comments_and_work_notes\"][1000])"
   ]
  },
  {
   "cell_type": "code",
   "execution_count": 190,
   "metadata": {},
   "outputs": [
    {
     "data": {
      "text/plain": [
       "0              NaN\n",
       "1       PRB0040026\n",
       "2              NaN\n",
       "3              NaN\n",
       "4       PRB0040028\n",
       "           ...    \n",
       "4146           NaN\n",
       "4147    PRB0045016\n",
       "4148    PRB0045013\n",
       "4149    PRB0045012\n",
       "4150           NaN\n",
       "Name: problem_id, Length: 4151, dtype: object"
      ]
     },
     "execution_count": 190,
     "metadata": {},
     "output_type": "execute_result"
    }
   ],
   "source": [
    "column_df = pd.DataFrame(index=column_names)\n",
    "inc_df[\"problem_id\"]"
   ]
  },
  {
   "cell_type": "code",
   "execution_count": 187,
   "metadata": {},
   "outputs": [
    {
     "ename": "TypeError",
     "evalue": "'<' not supported between instances of 'str' and 'float'",
     "output_type": "error",
     "traceback": [
      "\u001b[0;31m---------------------------------------------------------------------------\u001b[0m",
      "\u001b[0;31mTypeError\u001b[0m                                 Traceback (most recent call last)",
      "\u001b[0;32m<ipython-input-187-d38e421da25d>\u001b[0m in \u001b[0;36m<module>\u001b[0;34m\u001b[0m\n\u001b[1;32m      4\u001b[0m         \u001b[0mcolumn_df\u001b[0m\u001b[0;34m.\u001b[0m\u001b[0mloc\u001b[0m\u001b[0;34m[\u001b[0m\u001b[0mi\u001b[0m\u001b[0;34m,\u001b[0m\u001b[0;34m\"str_len\"\u001b[0m\u001b[0;34m]\u001b[0m \u001b[0;34m=\u001b[0m \u001b[0mnp\u001b[0m\u001b[0;34m.\u001b[0m\u001b[0mmean\u001b[0m\u001b[0;34m(\u001b[0m\u001b[0minc_df\u001b[0m\u001b[0;34m[\u001b[0m\u001b[0mi\u001b[0m\u001b[0;34m]\u001b[0m\u001b[0;34m.\u001b[0m\u001b[0mstr\u001b[0m\u001b[0;34m.\u001b[0m\u001b[0mlen\u001b[0m\u001b[0;34m(\u001b[0m\u001b[0;34m)\u001b[0m\u001b[0;34m)\u001b[0m\u001b[0;34m\u001b[0m\u001b[0;34m\u001b[0m\u001b[0m\n\u001b[1;32m      5\u001b[0m         \u001b[0mis_const\u001b[0m \u001b[0;34m=\u001b[0m \u001b[0mlen\u001b[0m\u001b[0;34m(\u001b[0m\u001b[0mnp\u001b[0m\u001b[0;34m.\u001b[0m\u001b[0munique\u001b[0m\u001b[0;34m(\u001b[0m\u001b[0minc_df\u001b[0m\u001b[0;34m[\u001b[0m\u001b[0mi\u001b[0m\u001b[0;34m]\u001b[0m\u001b[0;34m.\u001b[0m\u001b[0mstr\u001b[0m\u001b[0;34m.\u001b[0m\u001b[0mlen\u001b[0m\u001b[0;34m(\u001b[0m\u001b[0;34m)\u001b[0m\u001b[0;34m)\u001b[0m\u001b[0;34m)\u001b[0m\u001b[0;34m==\u001b[0m\u001b[0;36m1\u001b[0m\u001b[0;34m\u001b[0m\u001b[0;34m\u001b[0m\u001b[0m\n\u001b[0;32m----> 6\u001b[0;31m         \u001b[0mis_single_value\u001b[0m \u001b[0;34m=\u001b[0m \u001b[0mlen\u001b[0m\u001b[0;34m(\u001b[0m\u001b[0mnp\u001b[0m\u001b[0;34m.\u001b[0m\u001b[0munique\u001b[0m\u001b[0;34m(\u001b[0m\u001b[0minc_df\u001b[0m\u001b[0;34m[\u001b[0m\u001b[0mi\u001b[0m\u001b[0;34m]\u001b[0m\u001b[0;34m)\u001b[0m\u001b[0;34m)\u001b[0m\u001b[0;34m==\u001b[0m\u001b[0;36m1\u001b[0m\u001b[0;34m\u001b[0m\u001b[0;34m\u001b[0m\u001b[0m\n\u001b[0m\u001b[1;32m      7\u001b[0m         \u001b[0mis_date_time\u001b[0m \u001b[0;34m=\u001b[0m \u001b[0many\u001b[0m\u001b[0;34m(\u001b[0m\u001b[0mx\u001b[0m \u001b[0;32min\u001b[0m \u001b[0mi\u001b[0m \u001b[0;32mfor\u001b[0m \u001b[0mx\u001b[0m \u001b[0;32min\u001b[0m \u001b[0;34m[\u001b[0m\u001b[0;34m\"_at\"\u001b[0m\u001b[0;34m,\u001b[0m\u001b[0;34m\"time\"\u001b[0m\u001b[0;34m,\u001b[0m\u001b[0;34m\"date\"\u001b[0m\u001b[0;34m,\u001b[0m\u001b[0;34m\"_on\"\u001b[0m\u001b[0;34m]\u001b[0m\u001b[0;34m)\u001b[0m\u001b[0;34m\u001b[0m\u001b[0;34m\u001b[0m\u001b[0m\n\u001b[1;32m      8\u001b[0m         \u001b[0;32mif\u001b[0m\u001b[0;34m(\u001b[0m\u001b[0mis_const\u001b[0m\u001b[0;34m)\u001b[0m\u001b[0;34m:\u001b[0m\u001b[0;34m\u001b[0m\u001b[0;34m\u001b[0m\u001b[0m\n",
      "\u001b[0;32m<__array_function__ internals>\u001b[0m in \u001b[0;36munique\u001b[0;34m(*args, **kwargs)\u001b[0m\n",
      "\u001b[0;32m/opt/conda/lib/python3.8/site-packages/numpy/lib/arraysetops.py\u001b[0m in \u001b[0;36munique\u001b[0;34m(ar, return_index, return_inverse, return_counts, axis)\u001b[0m\n\u001b[1;32m    259\u001b[0m     \u001b[0mar\u001b[0m \u001b[0;34m=\u001b[0m \u001b[0mnp\u001b[0m\u001b[0;34m.\u001b[0m\u001b[0masanyarray\u001b[0m\u001b[0;34m(\u001b[0m\u001b[0mar\u001b[0m\u001b[0;34m)\u001b[0m\u001b[0;34m\u001b[0m\u001b[0;34m\u001b[0m\u001b[0m\n\u001b[1;32m    260\u001b[0m     \u001b[0;32mif\u001b[0m \u001b[0maxis\u001b[0m \u001b[0;32mis\u001b[0m \u001b[0;32mNone\u001b[0m\u001b[0;34m:\u001b[0m\u001b[0;34m\u001b[0m\u001b[0;34m\u001b[0m\u001b[0m\n\u001b[0;32m--> 261\u001b[0;31m         \u001b[0mret\u001b[0m \u001b[0;34m=\u001b[0m \u001b[0m_unique1d\u001b[0m\u001b[0;34m(\u001b[0m\u001b[0mar\u001b[0m\u001b[0;34m,\u001b[0m \u001b[0mreturn_index\u001b[0m\u001b[0;34m,\u001b[0m \u001b[0mreturn_inverse\u001b[0m\u001b[0;34m,\u001b[0m \u001b[0mreturn_counts\u001b[0m\u001b[0;34m)\u001b[0m\u001b[0;34m\u001b[0m\u001b[0;34m\u001b[0m\u001b[0m\n\u001b[0m\u001b[1;32m    262\u001b[0m         \u001b[0;32mreturn\u001b[0m \u001b[0m_unpack_tuple\u001b[0m\u001b[0;34m(\u001b[0m\u001b[0mret\u001b[0m\u001b[0;34m)\u001b[0m\u001b[0;34m\u001b[0m\u001b[0;34m\u001b[0m\u001b[0m\n\u001b[1;32m    263\u001b[0m \u001b[0;34m\u001b[0m\u001b[0m\n",
      "\u001b[0;32m/opt/conda/lib/python3.8/site-packages/numpy/lib/arraysetops.py\u001b[0m in \u001b[0;36m_unique1d\u001b[0;34m(ar, return_index, return_inverse, return_counts)\u001b[0m\n\u001b[1;32m    320\u001b[0m         \u001b[0maux\u001b[0m \u001b[0;34m=\u001b[0m \u001b[0mar\u001b[0m\u001b[0;34m[\u001b[0m\u001b[0mperm\u001b[0m\u001b[0;34m]\u001b[0m\u001b[0;34m\u001b[0m\u001b[0;34m\u001b[0m\u001b[0m\n\u001b[1;32m    321\u001b[0m     \u001b[0;32melse\u001b[0m\u001b[0;34m:\u001b[0m\u001b[0;34m\u001b[0m\u001b[0;34m\u001b[0m\u001b[0m\n\u001b[0;32m--> 322\u001b[0;31m         \u001b[0mar\u001b[0m\u001b[0;34m.\u001b[0m\u001b[0msort\u001b[0m\u001b[0;34m(\u001b[0m\u001b[0;34m)\u001b[0m\u001b[0;34m\u001b[0m\u001b[0;34m\u001b[0m\u001b[0m\n\u001b[0m\u001b[1;32m    323\u001b[0m         \u001b[0maux\u001b[0m \u001b[0;34m=\u001b[0m \u001b[0mar\u001b[0m\u001b[0;34m\u001b[0m\u001b[0;34m\u001b[0m\u001b[0m\n\u001b[1;32m    324\u001b[0m     \u001b[0mmask\u001b[0m \u001b[0;34m=\u001b[0m \u001b[0mnp\u001b[0m\u001b[0;34m.\u001b[0m\u001b[0mempty\u001b[0m\u001b[0;34m(\u001b[0m\u001b[0maux\u001b[0m\u001b[0;34m.\u001b[0m\u001b[0mshape\u001b[0m\u001b[0;34m,\u001b[0m \u001b[0mdtype\u001b[0m\u001b[0;34m=\u001b[0m\u001b[0mnp\u001b[0m\u001b[0;34m.\u001b[0m\u001b[0mbool_\u001b[0m\u001b[0;34m)\u001b[0m\u001b[0;34m\u001b[0m\u001b[0;34m\u001b[0m\u001b[0m\n",
      "\u001b[0;31mTypeError\u001b[0m: '<' not supported between instances of 'str' and 'float'"
     ]
    }
   ],
   "source": [
    "for i in column_df.index:\n",
    "    column_df.loc[i,\"number_na\"]=inc_df[i].isna().sum()*100/len(inc_df)\n",
    "    if(is_string_dtype(inc_df[i])): \n",
    "        column_df.loc[i,\"str_len\"] = np.mean(inc_df[i].str.len())\n",
    "        is_const = len(np.unique(inc_df[i].str.len()))==1\n",
    "        is_single_value = len(np.unique(inc_df[i]))==1\n",
    "        is_date_time = any(x in i for x in [\"_at\",\"time\",\"date\",\"_on\"])\n",
    "        if(is_const):\n",
    "            column_df.loc[i,\"type\"] = \"Categorical\"\n",
    "        elif(is_single_value):\n",
    "            column_df.loc[i,\"type\"] = \"Unique\"\n",
    "        elif(is_date_time):\n",
    "            column_df.loc[i,\"type\"] = \"Date_Time\"\n",
    "\n",
    "    else:\n",
    "        column_df.loc[i,\"str_len\"] = 0\n",
    "        column_df.loc[i,\"const_len\"] = False\n",
    "\n",
    "                                        "
   ]
  },
  {
   "cell_type": "code",
   "execution_count": 183,
   "metadata": {},
   "outputs": [
    {
     "data": {
      "text/plain": [
       "array(['number', 'opened_at', 'approval', 'sys_created_on', 'sys_domain',\n",
       "       'sys_domain_path', 'u_status', 'notify', 'priority', 'severity',\n",
       "       'sys_class_name', 'sys_updated_on', 'upon_approval', 'upon_reject'],\n",
       "      dtype=object)"
      ]
     },
     "execution_count": 183,
     "metadata": {},
     "output_type": "execute_result"
    }
   ],
   "source": [
    "column_df.index.values[column_df[\"const_len\"]==True]"
   ]
  },
  {
   "cell_type": "code",
   "execution_count": 182,
   "metadata": {},
   "outputs": [
    {
     "data": {
      "text/html": [
       "<div>\n",
       "<style scoped>\n",
       "    .dataframe tbody tr th:only-of-type {\n",
       "        vertical-align: middle;\n",
       "    }\n",
       "\n",
       "    .dataframe tbody tr th {\n",
       "        vertical-align: top;\n",
       "    }\n",
       "\n",
       "    .dataframe thead th {\n",
       "        text-align: right;\n",
       "    }\n",
       "</style>\n",
       "<table border=\"1\" class=\"dataframe\">\n",
       "  <thead>\n",
       "    <tr style=\"text-align: right;\">\n",
       "      <th></th>\n",
       "      <th>number_na</th>\n",
       "      <th>str_len</th>\n",
       "      <th>const_len</th>\n",
       "    </tr>\n",
       "  </thead>\n",
       "  <tbody>\n",
       "    <tr>\n",
       "      <th>number</th>\n",
       "      <td>0.000000</td>\n",
       "      <td>10.000000</td>\n",
       "      <td>True</td>\n",
       "    </tr>\n",
       "    <tr>\n",
       "      <th>opened_at</th>\n",
       "      <td>0.000000</td>\n",
       "      <td>19.000000</td>\n",
       "      <td>True</td>\n",
       "    </tr>\n",
       "    <tr>\n",
       "      <th>short_description</th>\n",
       "      <td>0.000000</td>\n",
       "      <td>63.377740</td>\n",
       "      <td>False</td>\n",
       "    </tr>\n",
       "    <tr>\n",
       "      <th>problem_id</th>\n",
       "      <td>9.588051</td>\n",
       "      <td>10.000000</td>\n",
       "      <td>False</td>\n",
       "    </tr>\n",
       "    <tr>\n",
       "      <th>active</th>\n",
       "      <td>0.000000</td>\n",
       "      <td>0.000000</td>\n",
       "      <td>NaN</td>\n",
       "    </tr>\n",
       "    <tr>\n",
       "      <th>...</th>\n",
       "      <td>...</td>\n",
       "      <td>...</td>\n",
       "      <td>...</td>\n",
       "    </tr>\n",
       "    <tr>\n",
       "      <th>u_customer_impacted_question</th>\n",
       "      <td>0.000000</td>\n",
       "      <td>0.000000</td>\n",
       "      <td>NaN</td>\n",
       "    </tr>\n",
       "    <tr>\n",
       "      <th>watch_list</th>\n",
       "      <td>99.662732</td>\n",
       "      <td>22.142857</td>\n",
       "      <td>False</td>\n",
       "    </tr>\n",
       "    <tr>\n",
       "      <th>work_notes</th>\n",
       "      <td>0.000000</td>\n",
       "      <td>2634.133462</td>\n",
       "      <td>False</td>\n",
       "    </tr>\n",
       "    <tr>\n",
       "      <th>work_notes_list</th>\n",
       "      <td>99.927728</td>\n",
       "      <td>13.666667</td>\n",
       "      <td>False</td>\n",
       "    </tr>\n",
       "    <tr>\n",
       "      <th>x_pd_integration_is_pagerduty_escalated</th>\n",
       "      <td>0.000000</td>\n",
       "      <td>0.000000</td>\n",
       "      <td>NaN</td>\n",
       "    </tr>\n",
       "  </tbody>\n",
       "</table>\n",
       "<p>143 rows × 3 columns</p>\n",
       "</div>"
      ],
      "text/plain": [
       "                                         number_na      str_len const_len\n",
       "number                                    0.000000    10.000000      True\n",
       "opened_at                                 0.000000    19.000000      True\n",
       "short_description                         0.000000    63.377740     False\n",
       "problem_id                                9.588051    10.000000     False\n",
       "active                                    0.000000     0.000000       NaN\n",
       "...                                            ...          ...       ...\n",
       "u_customer_impacted_question              0.000000     0.000000       NaN\n",
       "watch_list                               99.662732    22.142857     False\n",
       "work_notes                                0.000000  2634.133462     False\n",
       "work_notes_list                          99.927728    13.666667     False\n",
       "x_pd_integration_is_pagerduty_escalated   0.000000     0.000000       NaN\n",
       "\n",
       "[143 rows x 3 columns]"
      ]
     },
     "execution_count": 182,
     "metadata": {},
     "output_type": "execute_result"
    }
   ],
   "source": [
    "column_df"
   ]
  },
  {
   "cell_type": "code",
   "execution_count": null,
   "metadata": {},
   "outputs": [],
   "source": []
  },
  {
   "cell_type": "code",
   "execution_count": null,
   "metadata": {},
   "outputs": [],
   "source": []
  }
 ],
 "metadata": {
  "kernelspec": {
   "display_name": "Python 3",
   "language": "python",
   "name": "python3"
  },
  "language_info": {
   "codemirror_mode": {
    "name": "ipython",
    "version": 3
   },
   "file_extension": ".py",
   "mimetype": "text/x-python",
   "name": "python",
   "nbconvert_exporter": "python",
   "pygments_lexer": "ipython3",
   "version": "3.8.5"
  }
 },
 "nbformat": 4,
 "nbformat_minor": 4
}

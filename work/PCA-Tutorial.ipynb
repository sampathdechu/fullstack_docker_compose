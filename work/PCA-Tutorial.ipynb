{
 "cells": [
  {
   "cell_type": "markdown",
   "metadata": {},
   "source": [
    "## 1. Principal Component Analysis\n",
    "\n",
    "An excellent tutorial of PCA is written here: https://sebastianraschka.com/Articles/2014_pca_step_by_step.html#principal-component-analysis-pca-vs-multiple-discriminant-analysis-mda"
   ]
  },
  {
   "cell_type": "code",
   "execution_count": 24,
   "metadata": {},
   "outputs": [],
   "source": [
    "import numpy as np"
   ]
  },
  {
   "cell_type": "code",
   "execution_count": 25,
   "metadata": {},
   "outputs": [],
   "source": [
    "np.random.seed(876023456)"
   ]
  },
  {
   "cell_type": "markdown",
   "metadata": {},
   "source": [
    "## 1.1 Generate random 3 feature dataset (40 data points) using multi variate guassian distribution"
   ]
  },
  {
   "cell_type": "code",
   "execution_count": 26,
   "metadata": {},
   "outputs": [],
   "source": [
    "mu_vec1 = np.array([0,0,0])\n",
    "cov_mat1 = np.array([[1,0,0],[0,1,0],[0,0,1]])"
   ]
  },
  {
   "cell_type": "code",
   "execution_count": 27,
   "metadata": {},
   "outputs": [
    {
     "data": {
      "text/plain": [
       "array([[1, 0, 0],\n",
       "       [0, 1, 0],\n",
       "       [0, 0, 1]])"
      ]
     },
     "execution_count": 27,
     "metadata": {},
     "output_type": "execute_result"
    }
   ],
   "source": [
    "cov_mat1"
   ]
  },
  {
   "cell_type": "code",
   "execution_count": 28,
   "metadata": {},
   "outputs": [],
   "source": [
    "class1_sample = np.random.multivariate_normal(mu_vec1, cov_mat1, 20).T\n",
    "assert class1_sample.shape == (3,20), \"The matrix has not the dimensions 3x20\""
   ]
  },
  {
   "cell_type": "code",
   "execution_count": 29,
   "metadata": {},
   "outputs": [
    {
     "data": {
      "text/plain": [
       "array([[-1.12666246,  0.08261466,  0.41810619, -1.91033518,  0.3241569 ,\n",
       "         0.72714206, -1.1937364 , -0.85275423, -0.91438845, -0.52339045,\n",
       "        -1.02715537, -0.61679867, -1.65984325, -1.07205039,  0.63636799,\n",
       "        -0.59045014, -0.08031384, -0.13722392,  0.83734619,  1.52518295],\n",
       "       [ 0.03723825, -0.49697687,  0.50242021, -3.11507104, -1.01393896,\n",
       "        -0.27986453,  0.91253898,  0.5307981 ,  1.71390903, -0.13429821,\n",
       "        -0.29763648, -0.24937038,  0.31771721,  0.03774446,  1.80847989,\n",
       "        -0.66843809,  1.26996998, -0.37648706,  0.69813171,  3.5282474 ],\n",
       "       [ 0.75271309, -0.50031388, -0.82462188,  1.84218005, -0.13576747,\n",
       "        -0.58894406,  0.36740167, -0.33370823,  0.4924603 , -0.5095228 ,\n",
       "        -1.8961617 ,  0.76622506, -0.69995084,  0.7016775 , -0.18991688,\n",
       "        -0.42571417, -1.27169537,  1.1816918 , -1.55916163, -1.36036003]])"
      ]
     },
     "execution_count": 29,
     "metadata": {},
     "output_type": "execute_result"
    }
   ],
   "source": [
    "class1_sample"
   ]
  },
  {
   "cell_type": "code",
   "execution_count": null,
   "metadata": {},
   "outputs": [],
   "source": []
  }
 ],
 "metadata": {
  "kernelspec": {
   "display_name": "Python 3",
   "language": "python",
   "name": "python3"
  },
  "language_info": {
   "codemirror_mode": {
    "name": "ipython",
    "version": 3
   },
   "file_extension": ".py",
   "mimetype": "text/x-python",
   "name": "python",
   "nbconvert_exporter": "python",
   "pygments_lexer": "ipython3",
   "version": "3.8.5"
  }
 },
 "nbformat": 4,
 "nbformat_minor": 4
}
